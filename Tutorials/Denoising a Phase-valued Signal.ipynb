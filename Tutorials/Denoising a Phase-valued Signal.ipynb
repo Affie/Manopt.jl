{
 "cells": [
  {
   "cell_type": "markdown",
   "metadata": {},
   "source": [
    "# Denoising a phase-valued Signal"
   ]
  },
  {
   "cell_type": "markdown",
   "metadata": {},
   "source": [
    "## This is example is adopted (different noise) and extended from Example 5.1 in\n",
    ">Bergmann, R., Laus, F., Steidl, G. and Weinmann, A.,<br>\n",
    ">Second order differences of cyclic data and applications in variational denoising.<br>\n",
    ">SIAM Journal on Imaging Sciences, 7(4), pp. 2916–53, 2014<br>\n",
    ">doi [10.1137/140969993](http://dx.doi.org/10.1137/140969993), arXiv [1405.5349](https://arxiv.org/abs/1405.5349)\n",
    "\n",
    "This file is also available as standalone skript exporting `pdf`s and `csv`, see `src/examples/TV12_CPPA_SignalS1.jl`."
   ]
  },
  {
   "cell_type": "code",
   "execution_count": null,
   "metadata": {},
   "outputs": [],
   "source": [
    "using Manopt\n",
    "using Plots\n",
    "using LaTeXStrings"
   ]
  },
  {
   "cell_type": "code",
   "execution_count": null,
   "metadata": {},
   "outputs": [],
   "source": [
    "x = 0:0.002:1\n",
    "y = S1Signal.(x,true);\n",
    "yR = S1Signal.(x,false);"
   ]
  },
  {
   "cell_type": "code",
   "execution_count": null,
   "metadata": {},
   "outputs": [],
   "source": [
    "M = Circle()\n",
    "yS = S1Point.(y)\n",
    "yPow = PowPoint(yS)\n",
    "ySn = addNoise.(Ref(M),yS,0.2);\n",
    "yn = getValue.(ySn);\n",
    "MPow = Power(M,size(yn))\n",
    "ynPow = PowPoint(ySn);"
   ]
  },
  {
   "cell_type": "code",
   "execution_count": null,
   "metadata": {},
   "outputs": [],
   "source": [
    "plot(x,yR,label=\"real\",\n",
    "    linetype=:scatter, marker=(2.5,stroke(0)),\n",
    "    yticks=([-π,-π/2,0,π/2,π],[L\"-\\pi\",L\"-\\frac{\\pi}{2}\",0,L\"\\frac{\\pi}{2}\",L\"\\pi\"]),\n",
    "    xticks=[0,1/4,1/2,3/4,1],\n",
    "    legend=:topleft)\n",
    "plot!(x,y,label=\"wrapped\",linetype=:scatter, marker=(2.5,stroke(0)))\n",
    "plot!(x,yn,label=\"noisy\",linetype=:scatter, marker=(2.5,stroke(0)))\n",
    "meanSquaredError(MPow,yPow,ynPow)"
   ]
  },
  {
   "cell_type": "code",
   "execution_count": null,
   "metadata": {},
   "outputs": [],
   "source": [
    "α = 0.75\n",
    "proxMaps = [ (λ,x) -> proxDistance(MPow,λ,ynPow,x), (λ,x) -> proxTV(MPow,α*λ,x) ]\n",
    "costF = (x) -> L2TV(MPow,ynPow,α,x);"
   ]
  },
  {
   "cell_type": "code",
   "execution_count": null,
   "metadata": {},
   "outputs": [],
   "source": [
    "recTV = cyclicProximalPoint(MPow,costF,proxMaps,ynPow;\n",
    "        debug = (d -> (d[\"Iteration\"]%1000==1) ? print(d[\"Iteration\"],\"| λ=\",d[\"λ\"],\" | last change \",distance(MPow,d[\"x\"],d[\"xnew\"]),\"\\n\") : print(\"\") ,\n",
    "                Dict(\"λ\"=>\"\",\"Iteration\"=>0,\"x\"=>\"\",\"xnew\"=>\"\") ,4),\n",
    "        λ = i -> π/4/i\n",
    "    );\n",
    "meanSquaredError(MPow,yPow,recTV)"
   ]
  },
  {
   "cell_type": "code",
   "execution_count": null,
   "metadata": {},
   "outputs": [],
   "source": [
    "plot(x,y,label=\"wrapped\",linetype=:scatter, marker=(2.5,stroke(0)))\n",
    "plot!(x,yn,label=\"noisy\",linetype=:scatter, marker=(2.5,stroke(0)))\n",
    "plot!(x,getValue.( getValue(recTV) ),label=\"rec. (TV)\",linetype=:scatter, marker=(2.5,stroke(0)))"
   ]
  },
  {
   "cell_type": "code",
   "execution_count": null,
   "metadata": {},
   "outputs": [],
   "source": [
    "β = 1\n",
    "proxMaps2 = [ (λ,x) -> proxDistance(MPow,λ,yPow,x), (λ,x) -> proxTV2(MPow,β*λ,x) ]\n",
    "costF2 = (x) -> L2TV2(MPow,yPow,β,x);"
   ]
  },
  {
   "cell_type": "code",
   "execution_count": null,
   "metadata": {},
   "outputs": [],
   "source": [
    "recTV2 = cyclicProximalPoint(MPow,costF2,proxMaps2,ynPow;\n",
    "        debug = (d -> (d[\"Iteration\"]%1000==1) ? print(d[\"Iteration\"],\"| λ=\",d[\"λ\"],\" | last change \",distance(MPow,d[\"x\"],d[\"xnew\"]),\"\\n\") : print(\"\") ,\n",
    "                Dict(\"λ\"=>\"\",\"Iteration\"=>0,\"x\"=>\"\",\"xnew\"=>\"\") ,4),\n",
    "        λ = i -> π/4/i\n",
    "    );\n",
    "meanSquaredError(MPow,yPow,recTV2)"
   ]
  },
  {
   "cell_type": "code",
   "execution_count": null,
   "metadata": {},
   "outputs": [],
   "source": [
    "plot(x,y,label=\"wrapped\",linetype=:scatter, marker=(2.5,stroke(0)))\n",
    "plot!(x,yn,label=\"noisy\",linetype=:scatter, marker=(2.5,stroke(0)))\n",
    "plot!(x,getValue.( getValue(recTV2) ),label=\"rec. (TV2)\",linetype=:scatter, marker=(2.5,stroke(0)))"
   ]
  },
  {
   "cell_type": "code",
   "execution_count": null,
   "metadata": {},
   "outputs": [],
   "source": [
    "α,β = 0.5,.5\n",
    "proxMaps1p2 = [ (λ,x) -> proxDistance(MPow,λ,yPow,x), (λ,x) -> proxTV(MPow,α*λ,x), (λ,x) -> proxTV2(MPow,β*λ,x) ]\n",
    "costF1p2 = (x) -> L2TVplusTV2(MPow,yPow,α,β,x);"
   ]
  },
  {
   "cell_type": "code",
   "execution_count": null,
   "metadata": {},
   "outputs": [],
   "source": [
    "recTV1p2 = cyclicProximalPoint(MPow,costF1p2,proxMaps1p2,ynPow;\n",
    "        debug = (d -> (d[\"Iteration\"]%1000==1) ? print(d[\"Iteration\"],\"| λ=\",d[\"λ\"],\" | last change \",distance(MPow,d[\"x\"],d[\"xnew\"]),\"\\n\") : print(\"\") ,\n",
    "                Dict(\"λ\"=>\"\",\"Iteration\"=>0,\"x\"=>\"\",\"xnew\"=>\"\") ,4),\n",
    "        λ = i -> π/4/i\n",
    "    );\n",
    "meanSquaredError(MPow,yPow,recTV1p2)"
   ]
  },
  {
   "cell_type": "code",
   "execution_count": null,
   "metadata": {
    "scrolled": true
   },
   "outputs": [],
   "source": [
    "plot(x,y,label=\"wrapped\",linetype=:scatter, marker=(2.5,stroke(0)))\n",
    "plot!(x,yn,label=\"noisy\",linetype=:scatter, marker=(2.5,stroke(0)))\n",
    "plot!(x,getValue.( getValue(recTV1p2) ),label=\"rec. (TV1&2)\",linetype=:scatter, marker=(2.5,stroke(0)))"
   ]
  },
  {
   "cell_type": "code",
   "execution_count": null,
   "metadata": {
    "scrolled": true
   },
   "outputs": [],
   "source": [
    "yRPow = PowPoint(RnPoint.(y))\n",
    "ynRPow = PowPoint(RnPoint.(yn))\n",
    "RPow = Power(Euclidean(1),size(yn))\n",
    "α = 0.75\n",
    "proxMapsR = [ (λ,x) -> proxDistance(RPow,λ,ynRPow,x), (λ,x) -> proxTV(RPow,α*λ,x) ]\n",
    "costFR = (x) -> L2TV(RPow,ynRpow,α,x);\n",
    "recTVR = cyclicProximalPoint(RPow,costFR,proxMapsR,ynRPow;\n",
    "        debug = (d -> (d[\"Iteration\"]%1000==1) ? print(d[\"Iteration\"],\"| λ=\",d[\"λ\"],\" | last change \",distance(RPow,d[\"x\"],d[\"xnew\"]),\"\\n\") : print(\"\") ,\n",
    "                Dict(\"λ\"=>\"\",\"Iteration\"=>0,\"x\"=>\"\",\"xnew\"=>\"\") ,4),\n",
    "        λ = i -> π/4/i\n",
    "    );\n",
    "plot(x,y,label=\"wrapped\",linetype=:scatter, marker=(2.5,stroke(0)))\n",
    "plot!(x,yn,label=\"noisy\",linetype=:scatter, marker=(2.5,stroke(0)))\n",
    "plot!(x,getValue.( getValue(recTVR) ),label=\"reconstructed\",linetype=:scatter, marker=(2.5,stroke(0)))"
   ]
  }
 ],
 "metadata": {
  "kernelspec": {
   "display_name": "Julia 0.7.0",
   "language": "julia",
   "name": "julia-0.7"
  },
  "language_info": {
   "file_extension": ".jl",
   "mimetype": "application/julia",
   "name": "julia",
   "version": "0.7.0"
  }
 },
 "nbformat": 4,
 "nbformat_minor": 2
}
