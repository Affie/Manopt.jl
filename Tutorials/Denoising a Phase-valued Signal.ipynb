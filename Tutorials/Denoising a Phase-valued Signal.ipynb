{
 "cells": [
  {
   "cell_type": "code",
   "execution_count": null,
   "metadata": {},
   "outputs": [],
   "source": [
    "using Manopt\n",
    "using Plots\n",
    "using LaTeXStrings"
   ]
  },
  {
   "cell_type": "code",
   "execution_count": null,
   "metadata": {},
   "outputs": [],
   "source": [
    "x = 0:0.002:1\n",
    "y = S1Signal.(x,true);\n",
    "yR = S1Signal.(x,false);"
   ]
  },
  {
   "cell_type": "code",
   "execution_count": null,
   "metadata": {},
   "outputs": [],
   "source": [
    "M = Circle()\n",
    "yS = S1Point.(y)\n",
    "ySn = addNoise.(Ref(M),yS,0.2);\n",
    "yn = getValue.(ySn);\n",
    "MPow = Power(M,size(yn))\n",
    "yPow = PowPoint(ySn);"
   ]
  },
  {
   "cell_type": "code",
   "execution_count": null,
   "metadata": {},
   "outputs": [],
   "source": [
    "plot(x,yR,label=\"real\",\n",
    "    linetype=:scatter, marker=(2.5,stroke(0)),\n",
    "    yticks=([-π,-π/2,0,π/2,π],[L\"-\\pi\",L\"-\\frac{\\pi}{2}\",0,L\"\\frac{\\pi}{2}\",L\"\\pi\"]),\n",
    "    xticks=[0,1/4,1/2,3/4,1],\n",
    "    legend=:topleft)\n",
    "plot!(x,y,label=\"wrapped\",linetype=:scatter, marker=(2.5,stroke(0)))\n",
    "plot!(x,yn,label=\"noisy\",linetype=:scatter, marker=(2.5,stroke(0)))"
   ]
  },
  {
   "cell_type": "code",
   "execution_count": null,
   "metadata": {},
   "outputs": [],
   "source": [
    "α = 1\n",
    "proxMaps = [ (λ,x) -> proxDistance(MPow,λ,yPow,x), (λ,x) -> proxTV(MPow,α*λ,x) ]\n",
    "costF = (x) -> L2TV(MPow,yn,x,α)"
   ]
  },
  {
   "cell_type": "code",
   "execution_count": null,
   "metadata": {},
   "outputs": [],
   "source": [
    "recTV = cyclicProximalPoint(MPow,costF,proxMaps,yPow; );"
   ]
  },
  {
   "cell_type": "code",
   "execution_count": null,
   "metadata": {},
   "outputs": [],
   "source": [
    "plot(x,y,label=\"wrapped\",linetype=:scatter, marker=(2.5,stroke(0)))\n",
    "plot!(x,yn,label=\"noisy\",linetype=:scatter, marker=(2.5,stroke(0)))\n",
    "plot!(x,getValue.( getValue(recTV) ),label=\"reconstructed\",linetype=:scatter, marker=(2.5,stroke(0)))"
   ]
  },
  {
   "cell_type": "code",
   "execution_count": null,
   "metadata": {},
   "outputs": [],
   "source": []
  }
 ],
 "metadata": {
  "kernelspec": {
   "display_name": "Julia 0.7.0",
   "language": "julia",
   "name": "julia-0.7"
  },
  "language_info": {
   "file_extension": ".jl",
   "mimetype": "application/julia",
   "name": "julia",
   "version": "0.7.0"
  }
 },
 "nbformat": 4,
 "nbformat_minor": 2
}
