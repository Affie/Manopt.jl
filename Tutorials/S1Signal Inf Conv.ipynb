{
 "cells": [
  {
   "cell_type": "code",
   "execution_count": null,
   "metadata": {
    "scrolled": true
   },
   "outputs": [],
   "source": [
    "using Manopt\n",
    "using Plots"
   ]
  },
  {
   "cell_type": "code",
   "execution_count": null,
   "metadata": {},
   "outputs": [],
   "source": [
    "σ = 0.15\n",
    "t = 0:0.001:1\n",
    "u0 = PowPoint(S1Point.(S1Signal.(t)))\n",
    "N = Circle()\n",
    "M = Power(N,size(u0))\n",
    "f = addNoise(M,u0,σ);"
   ]
  },
  {
   "cell_type": "code",
   "execution_count": null,
   "metadata": {},
   "outputs": [],
   "source": [
    "plot(t,getValue.(getValue(u0)),label=\"u0\",linetype=:scatter, marker=(10,stroke(0)),size = (1800, 900))\n",
    "plot!(t,getValue.(getValue(f)),label=\"f\",linetype=:scatter, marker=(10,stroke(0)))"
   ]
  },
  {
   "cell_type": "code",
   "execution_count": null,
   "metadata": {
    "scrolled": true
   },
   "outputs": [],
   "source": [
    "x0 = PowPoint([getValue(f) getValue(f)])\n",
    "M2 = Power(N, size(x0) )"
   ]
  },
  {
   "cell_type": "code",
   "execution_count": null,
   "metadata": {},
   "outputs": [],
   "source": [
    "F = x -> costIntrICTV12(M,f,x[:,1],x[:,2],10,0.85);\n",
    "∇F = x -> PowTVector( cat( getValue.( gradIntrICTV12(M,f,x[:,1],x[:,2],1,0.5))...;dims=2) );"
   ]
  },
  {
   "cell_type": "code",
   "execution_count": null,
   "metadata": {
    "scrolled": true
   },
   "outputs": [],
   "source": [
    "xR = subGradientMethod(M2, F, ∇F, x0;\n",
    " stoppingCriterion = (i,ξ,x,xnew) -> ((i>4999), (i>4999) ? \"max Iter $(i) reached.\" : \"\"),\n",
    " debug = (d -> (d[\"Iteration\"]%1000==1) ? print(d[\"Iteration\"],\"| last change \",distance(M2,d[\"x\"],d[\"xnew\"]),\" | Fct value \",F(d[\"xopt\"]),\"\\n\") : print(\"\") ,\n",
    "                 Dict(\"Iteration\"=>0,\"x\"=>\"\",\"xnew\"=>\"\",\"xopt\"=>\"\") ,4),\n",
    ");"
   ]
  },
  {
   "cell_type": "code",
   "execution_count": null,
   "metadata": {},
   "outputs": [],
   "source": [
    "w = midPoint(M,xR[:,1],xR[:,2]);"
   ]
  },
  {
   "cell_type": "code",
   "execution_count": null,
   "metadata": {},
   "outputs": [],
   "source": [
    "plot(t,getValue.(getValue(u0)),label=\"u0\",linetype=:scatter, marker=(10,stroke(0)),size = (4000, 2000))\n",
    "#plot!(t,getValue.(getValue(xR)[:,1]),label=\"TV part\",linetype=:scatter, marker=(10,stroke(0)))\n",
    "#plot!(t,getValue.(getValue(xR)[:,2]),label=\"TV2 part\",linetype=:scatter, marker=(10,stroke(0)))\n",
    "plot!(t,getValue.(getValue(w)),label=\"R\",linetype=:scatter, marker=(10,stroke(0)))"
   ]
  },
  {
   "cell_type": "code",
   "execution_count": null,
   "metadata": {},
   "outputs": [],
   "source": []
  }
 ],
 "metadata": {
  "kernelspec": {
   "display_name": "Julia 0.7.0",
   "language": "julia",
   "name": "julia-0.7"
  },
  "language_info": {
   "file_extension": ".jl",
   "mimetype": "application/julia",
   "name": "julia",
   "version": "0.7.0"
  }
 },
 "nbformat": 4,
 "nbformat_minor": 2
}
