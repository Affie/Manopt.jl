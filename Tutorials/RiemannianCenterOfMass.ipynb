{
 "cells": [
  {
   "cell_type": "markdown",
   "metadata": {},
   "source": [
    "## Computing the Riemannian center of Mass in Manopt.jl"
   ]
  },
  {
   "cell_type": "markdown",
   "metadata": {},
   "source": [
    "This example illustrates how to compute a Riemannian center of mass step by step using a gradient descent algorithm\n",
    "\n",
    "R. Bergmann, Manopt.jl, 2018-06-25"
   ]
  },
  {
   "cell_type": "markdown",
   "metadata": {},
   "source": [
    "Let's first load the Manopt package."
   ]
  },
  {
   "cell_type": "code",
   "execution_count": 1,
   "metadata": {},
   "outputs": [],
   "source": [
    "using Manopt"
   ]
  },
  {
   "cell_type": "code",
   "execution_count": 2,
   "metadata": {},
   "outputs": [
    {
     "data": {
      "text/plain": [
       "The Manifold S1 consisting of angles"
      ]
     },
     "execution_count": 2,
     "metadata": {},
     "output_type": "execute_result"
    }
   ],
   "source": [
    "M = Circle()"
   ]
  },
  {
   "cell_type": "code",
   "execution_count": 3,
   "metadata": {},
   "outputs": [
    {
     "data": {
      "text/plain": [
       "3-element Array{Manopt.S1Point,1}:\n",
       " S1(1.5707963267948966)\n",
       " S1(0.0)               \n",
       " S1(3.141592653589793) "
      ]
     },
     "execution_count": 3,
     "metadata": {},
     "output_type": "execute_result"
    }
   ],
   "source": [
    "pts = S1Point.([pi/2,0,pi])"
   ]
  },
  {
   "cell_type": "markdown",
   "metadata": {},
   "source": [
    "The cost function is then the sum of squared distances to these points and the gradient hence the negative logs"
   ]
  },
  {
   "cell_type": "code",
   "execution_count": 4,
   "metadata": {},
   "outputs": [],
   "source": [
    "F(p) = 1/2*sum(distance.(M,pts,p).^2);\n",
    "gradF(p) = sum(-log.(M,p,pts));"
   ]
  },
  {
   "cell_type": "code",
   "execution_count": 5,
   "metadata": {},
   "outputs": [],
   "source": [
    "lP = LineSearchProblem(M,F);"
   ]
  },
  {
   "cell_type": "code",
   "execution_count": 6,
   "metadata": {},
   "outputs": [],
   "source": [
    "stoppingCrit(i,ξ,x,xnew) = (i>10);"
   ]
  },
  {
   "cell_type": "code",
   "execution_count": 7,
   "metadata": {},
   "outputs": [],
   "source": [
    "dP = DescentProblem(F,gradF,stoppingCrit,pts[1],ArmijoLineSearch,lP);"
   ]
  },
  {
   "cell_type": "code",
   "execution_count": 8,
   "metadata": {},
   "outputs": [
    {
     "ename": "LoadError",
     "evalue": "\u001b[91mMethodError: no method matching getStepsize(::Manopt.DescentProblem, ::Manopt.S1Point, ::Manopt.S1TVector, ::Float64)\u001b[0m\nClosest candidates are:\n  getStepsize(::P<:Manopt.DescentProblem, ::Union{Array{MP<:Manopt.MPoint,N}, MP<:Manopt.MPoint}, ::Union{Array{MT<:Manopt.MTVector,N}, MT<:Manopt.MTVector}, ::Float64) where {P<:Manopt.DescentProblem, MP<:Manopt.MPoint, MT<:Manopt.MTVector, N} at /Users/bergmann/Repositories/Software/Manopt.jl/src/problem/problem.jl:125\n  getStepsize(::P<:Manopt.DescentProblem, ::Union{Array{MP<:Manopt.MPoint,N}, MP<:Manopt.MPoint}, ::Union{Array{MT<:Manopt.MTVector,N}, MT<:Manopt.MTVector}) where {P<:Manopt.DescentProblem, MP<:Manopt.MPoint, MT<:Manopt.MTVector, N} at /Users/bergmann/Repositories/Software/Manopt.jl/src/problem/problem.jl:130\n  getStepsize(::P<:Manopt.DescentProblem, ::Union{Array{MP<:Manopt.MPoint,N}, MP<:Manopt.MPoint}, ::Union{Array{MT<:Manopt.MTVector,N}, MT<:Manopt.MTVector}, \u001b[91m::Union{Array{MT<:Manopt.MTVector,N}, MT<:Manopt.MTVector}\u001b[39m) where {P<:Manopt.DescentProblem, MP<:Manopt.MPoint, MT<:Manopt.MTVector, N} at /Users/bergmann/Repositories/Software/Manopt.jl/src/problem/problem.jl:119\n  ...\u001b[39m",
     "output_type": "error",
     "traceback": [
      "\u001b[91mMethodError: no method matching getStepsize(::Manopt.DescentProblem, ::Manopt.S1Point, ::Manopt.S1TVector, ::Float64)\u001b[0m\nClosest candidates are:\n  getStepsize(::P<:Manopt.DescentProblem, ::Union{Array{MP<:Manopt.MPoint,N}, MP<:Manopt.MPoint}, ::Union{Array{MT<:Manopt.MTVector,N}, MT<:Manopt.MTVector}, ::Float64) where {P<:Manopt.DescentProblem, MP<:Manopt.MPoint, MT<:Manopt.MTVector, N} at /Users/bergmann/Repositories/Software/Manopt.jl/src/problem/problem.jl:125\n  getStepsize(::P<:Manopt.DescentProblem, ::Union{Array{MP<:Manopt.MPoint,N}, MP<:Manopt.MPoint}, ::Union{Array{MT<:Manopt.MTVector,N}, MT<:Manopt.MTVector}) where {P<:Manopt.DescentProblem, MP<:Manopt.MPoint, MT<:Manopt.MTVector, N} at /Users/bergmann/Repositories/Software/Manopt.jl/src/problem/problem.jl:130\n  getStepsize(::P<:Manopt.DescentProblem, ::Union{Array{MP<:Manopt.MPoint,N}, MP<:Manopt.MPoint}, ::Union{Array{MT<:Manopt.MTVector,N}, MT<:Manopt.MTVector}, \u001b[91m::Union{Array{MT<:Manopt.MTVector,N}, MT<:Manopt.MTVector}\u001b[39m) where {P<:Manopt.DescentProblem, MP<:Manopt.MPoint, MT<:Manopt.MTVector, N} at /Users/bergmann/Repositories/Software/Manopt.jl/src/problem/problem.jl:119\n  ...\u001b[39m",
      "",
      "Stacktrace:",
      " [1] \u001b[1msteepestDescent\u001b[22m\u001b[22m\u001b[1m(\u001b[22m\u001b[22m::Manopt.DescentProblem\u001b[1m)\u001b[22m\u001b[22m at \u001b[1m/Users/bergmann/Repositories/Software/Manopt.jl/src/solvers/steepestDescent.jl:17\u001b[22m\u001b[22m"
     ]
    }
   ],
   "source": [
    "x = steepestDescent(dP)"
   ]
  },
  {
   "cell_type": "code",
   "execution_count": null,
   "metadata": {},
   "outputs": [],
   "source": []
  }
 ],
 "metadata": {
  "celltoolbar": "Raw Cell Format",
  "kernelspec": {
   "display_name": "Julia 0.6.3",
   "language": "julia",
   "name": "julia-0.6"
  },
  "language_info": {
   "file_extension": ".jl",
   "mimetype": "application/julia",
   "name": "julia",
   "version": "0.6.3"
  }
 },
 "nbformat": 4,
 "nbformat_minor": 2
}
