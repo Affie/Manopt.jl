{
 "cells": [
  {
   "cell_type": "markdown",
   "metadata": {},
   "source": [
    "# Computing the Riemannian center of Mass in Manopt.jl"
   ]
  },
  {
   "cell_type": "markdown",
   "metadata": {},
   "source": [
    "This example illustrates how to compute a Riemannian center of mass step by step using a gradient descent algorithm\n",
    "\n",
    "> Manopt.jl, R. Bergmann, 2018-06-25"
   ]
  },
  {
   "cell_type": "markdown",
   "metadata": {},
   "source": [
    "Let's first load the `Manopt.jl` package."
   ]
  },
  {
   "cell_type": "code",
   "execution_count": 1,
   "metadata": {},
   "outputs": [],
   "source": [
    "using Manopt"
   ]
  },
  {
   "cell_type": "markdown",
   "metadata": {},
   "source": [
    "...and start with one of the easiest manifolds, the $\\mathbb S^1$ represented by angles $[-\\pi,\\pi)$"
   ]
  },
  {
   "cell_type": "code",
   "execution_count": 2,
   "metadata": {},
   "outputs": [
    {
     "data": {
      "text/plain": [
       "The Manifold S1 consisting of angles"
      ]
     },
     "execution_count": 2,
     "metadata": {},
     "output_type": "execute_result"
    }
   ],
   "source": [
    "M = Circle()"
   ]
  },
  {
   "cell_type": "code",
   "execution_count": 3,
   "metadata": {},
   "outputs": [
    {
     "data": {
      "text/plain": [
       "3-element Array{Manopt.S1Point,1}:\n",
       " S1(1.5707963267948966)\n",
       " S1(0.0)               \n",
       " S1(3.141592653589793) "
      ]
     },
     "execution_count": 3,
     "metadata": {},
     "output_type": "execute_result"
    }
   ],
   "source": [
    "pts = S1Point.([pi/2,0,pi])"
   ]
  },
  {
   "cell_type": "markdown",
   "metadata": {},
   "source": [
    "The cost function is then the sum of squared distances to these points and the gradient hence the negative logs"
   ]
  },
  {
   "cell_type": "code",
   "execution_count": 4,
   "metadata": {},
   "outputs": [],
   "source": [
    "F(p) = 1/2*sum(distance.(M,pts,p).^2);\n",
    "gradF(p) = sum(-log.(M,p,pts));"
   ]
  },
  {
   "cell_type": "code",
   "execution_count": 5,
   "metadata": {},
   "outputs": [],
   "source": [
    "lO = GradientLineSearchOptions(pts[1],1.0,0.5,0.0001,(M,x,ξ) -> exp(M,x,ξ));"
   ]
  },
  {
   "cell_type": "code",
   "execution_count": 18,
   "metadata": {},
   "outputs": [],
   "source": [
    "stoppingCrit(i,ξ,x,xnew) = (i>9), (i>9) ? \"The Iteration stopped after 10 Iterations\" : \"\";"
   ]
  },
  {
   "cell_type": "code",
   "execution_count": 19,
   "metadata": {},
   "outputs": [],
   "source": [
    "dP = GradientProblem(M,F,gradF)\n",
    "dO = GradientDescentOptions(pts[1],stoppingCrit,ArmijoLineSearch,lO);"
   ]
  },
  {
   "cell_type": "markdown",
   "metadata": {},
   "source": [
    "Let's also include debug using the gradient debug function.\n",
    "By introducing variables into the dictionary they get refreshed and printed"
   ]
  },
  {
   "cell_type": "code",
   "execution_count": 20,
   "metadata": {},
   "outputs": [],
   "source": [
    "debugF = gradientDebug;\n",
    "debugO = Dict(\"manifold\"=>M,\"x\"=>\"\",\"xold\"=>\"\",\"costFunction\"=>F,\"gradient\"=>gradF,\"Iteration\"=>0,\"Format\"=>\"Long\");\n",
    "dO = DebugDecoOptions(dO,debugF,debugO,5);"
   ]
  },
  {
   "cell_type": "code",
   "execution_count": 21,
   "metadata": {},
   "outputs": [
    {
     "name": "stdout",
     "output_type": "stream",
     "text": [
      "#1 | F: 2.4674011002723395 | Norm of gradient: 0.0 | Last change: 0.0\n",
      "#2 | F: 2.4674011002723395 | Norm of gradient: 0.0 | Last change: 0.0\n",
      "#3 | F: 2.4674011002723395 | Norm of gradient: 0.0 | Last change: 0.0\n",
      "#4 | F: 2.4674011002723395 | Norm of gradient: 0.0 | Last change: 0.0\n",
      "#5 | F: 2.4674011002723395 | Norm of gradient: 0.0 | Last change: 0.0\n",
      "#6 | F: 2.4674011002723395 | Norm of gradient: 0.0 | Last change: 0.0\n",
      "#7 | F: 2.4674011002723395 | Norm of gradient: 0.0 | Last change: 0.0\n",
      "#8 | F: 2.4674011002723395 | Norm of gradient: 0.0 | Last change: 0.0\n",
      "#9 | F: 2.4674011002723395 | Norm of gradient: 0.0 | Last change: 0.0\n",
      "#10 | F: 2.4674011002723395 | Norm of gradient: 0.0 | Last change: 0.0\n",
      "The Iteration stopped after 10 Iterations"
     ]
    }
   ],
   "source": [
    "x, = steepestDescent(dP,dO);"
   ]
  },
  {
   "cell_type": "markdown",
   "metadata": {},
   "source": [
    "If we for example omit the gradient and introduce a step, we have to change the Settings. Furthermore, the algorithm is already in a critical point after 1 Iteration (see below) and hence we could to only 4 steps (for illustration) but omit the reason for the end"
   ]
  },
  {
   "cell_type": "code",
   "execution_count": 22,
   "metadata": {},
   "outputs": [
    {
     "name": "stdout",
     "output_type": "stream",
     "text": [
      "#2 | F: 2.4674011002723395 | Last change: 0.0\n",
      "#4 | F: 2.4674011002723395 | Last change: 0.0\n"
     ]
    },
    {
     "data": {
      "text/plain": [
       "(S1(1.5707963267948966), \"\")"
      ]
     },
     "execution_count": 22,
     "metadata": {},
     "output_type": "execute_result"
    }
   ],
   "source": [
    "stoppingCrit(i,ξ,x,xnew) = (i>3), \"\";\n",
    "getOptions(dO).stoppingCriterion = stoppingCrit;\n",
    "setDebugOptions(dO,Dict(\"manifold\"=>M,\"x\"=>\"\",\"xold\"=>\"\",\"costFunction\"=>F,\"step\"=>2,\"Iteration\"=>0,\"Format\"=>\"Long\"));\n",
    "x, = steepestDescent(dP,dO)"
   ]
  },
  {
   "cell_type": "code",
   "execution_count": 17,
   "metadata": {},
   "outputs": [
    {
     "data": {
      "text/plain": [
       "S1(1.5707963267948966)"
      ]
     },
     "execution_count": 17,
     "metadata": {},
     "output_type": "execute_result"
    }
   ],
   "source": [
    "x"
   ]
  },
  {
   "cell_type": "markdown",
   "metadata": {},
   "source": [
    "Since the data is local enough, this is of course the same as the real valued mean:"
   ]
  },
  {
   "cell_type": "code",
   "execution_count": 11,
   "metadata": {},
   "outputs": [
    {
     "data": {
      "text/plain": [
       "true"
      ]
     },
     "execution_count": 11,
     "metadata": {},
     "output_type": "execute_result"
    }
   ],
   "source": [
    "(pi/2+0+pi)/3 == x.value"
   ]
  },
  {
   "cell_type": "code",
   "execution_count": null,
   "metadata": {},
   "outputs": [],
   "source": []
  }
 ],
 "metadata": {
  "celltoolbar": "Raw Cell Format",
  "kernelspec": {
   "display_name": "Julia 0.6.3",
   "language": "julia",
   "name": "julia-0.6"
  },
  "language_info": {
   "file_extension": ".jl",
   "mimetype": "application/julia",
   "name": "julia",
   "version": "0.6.3"
  }
 },
 "nbformat": 4,
 "nbformat_minor": 2
}
